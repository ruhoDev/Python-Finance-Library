{
 "cells": [
  {
   "cell_type": "markdown",
   "metadata": {},
   "source": [
    "# Finance-Python"
   ]
  },
  {
   "cell_type": "markdown",
   "metadata": {},
   "source": [
    "> 原始项目地址：**Finance-Python**（https://github.com/wegamekinglc/Finance-Python）；\n",
    "\n",
    "> ``python setup.py install`` 安装包；\n",
    "\n",
    "> 相关依赖请见主目录下 ``requirements`` 文件夹。"
   ]
  },
  {
   "cell_type": "markdown",
   "metadata": {},
   "source": [
    "## Operator in Declarative Style"
   ]
  },
  {
   "cell_type": "markdown",
   "metadata": {},
   "source": [
    "### 声明式\n",
    "\n",
    "计算表达式被抽象为一些**算子**，用户无需给出计算的流程，只需要使用这些**算子**表达自己的想法。\n",
    "\n",
    "例如，我们需要计算向量 $\\bar x$ 的均值，**命令式**的做法可能如下：\n",
    "\n",
    "```python\n",
    "sum_value = 0\n",
    "for v in x:\n",
    "   sum_value += v \n",
    "average_value = sum_value / len(x)\n",
    "```\n",
    "\n",
    "而**声明式**的做法：\n",
    "\n",
    "```python\n",
    "average_value = mean(x)\n",
    "```\n",
    "\n",
    "上面的 ``mean`` 就是我们所谓的算子概念。"
   ]
  },
  {
   "cell_type": "markdown",
   "metadata": {},
   "source": [
    "### 延迟计算\n",
    "\n",
    "\n",
    "表达式无需在定义的位置获得结果，只需在需要的时候进行计算即可：\n",
    "\n",
    "```python\n",
    "\n",
    "expression = operator(dependency)\n",
    "\n",
    "```\n",
    "\n",
    "中间会有一些其他计算的代码：\n",
    "\n",
    "```\n",
    "......\n",
    "```\n",
    "\n",
    "这里的 ``expression`` 是一个表达式对象，而不是计算的结果，在需要值的时候：\n",
    "\n",
    "```python\n",
    "\n",
    "expression_value = expression.value\n",
    "\n",
    "```"
   ]
  },
  {
   "cell_type": "markdown",
   "metadata": {},
   "source": [
    "### 支持算术运算\n",
    "\n",
    "表达式对象支持基本的 ``+-*/`` 运算。\n",
    "\n",
    "例如，计算收益率的sharp值，我们可以这样去定义表达式：\n",
    "\n",
    "```python\n",
    "\n",
    "sharp_expression = mean(x) / std(x)\n",
    "\n",
    "```\n",
    "\n",
    "这里的 ``sharp_expression`` 是一个新的表达式，由两个基础的表达式构造而成。"
   ]
  },
  {
   "cell_type": "markdown",
   "metadata": {},
   "source": [
    "### 支持复合运算\n",
    "\n",
    "运算可以复合，例如实现以下的逻辑，计算过去20日每日50日均线的标准差：\n",
    "\n",
    "```python\n",
    "\n",
    "compounded_expression = std(mean(x, 50), 20)\n",
    "\n",
    "```"
   ]
  },
  {
   "cell_type": "markdown",
   "metadata": {},
   "source": [
    "### 支持聚合以及投影\n",
    "\n",
    "#### 聚合\n",
    "\n",
    "可以多个表达式的结果，传入另一个依赖多个输入的表达式，例如：\n",
    "\n",
    "$$\n",
    "z = f(x, y) \\\\\\\\\n",
    "x = g(a) \\\\\\\\\n",
    "y = h(b)\n",
    "$$\n",
    "\n",
    "可以有组合表达式：\n",
    "\n",
    "$$ z = f(g(a), h(b))$$\n",
    "\n",
    "以伪代码的形式表达如下：\n",
    "\n",
    "```python\n",
    "\n",
    "exp1 = operator1(a)\n",
    "exp2 = operator2(b)\n",
    "\n",
    "exp3 = operator3(exp1, exp2)\n",
    "\n",
    "```\n",
    "\n",
    "#### 投影\n",
    "\n",
    "有些时候我们需要把一个表达式一部分结果传入另一个表达式：\n",
    "\n",
    "$$\n",
    "    x, y = f(a) \\\\\\\\\n",
    "    z = h(x)\n",
    "$$\n",
    "\n",
    "所以我们有下面的复合表达式\n",
    "\n",
    "$$\n",
    "    z = h([f(a)]_x)\n",
    "$$\n",
    "\n",
    "其中 $ [\\cdot]_x$ 代表在 $x$ 方向上的投影。\n",
    "\n",
    "如果以伪代码的形式：\n",
    "\n",
    "```python\n",
    "\n",
    "exp1 = operator1(a)\n",
    "\n",
    "exp2 = operator2(exp1[0])\n",
    "\n",
    "```"
   ]
  },
  {
   "cell_type": "markdown",
   "metadata": {
    "collapsed": true
   },
   "source": [
    "## Implementation in Finance-Python\n",
    "\n",
    "在 **Finance-Python** 中，以 **accumulator** 的形式实现了上面的 **Declarative Style Operator**。**accumulator** 是具有自身状态的算符，"
   ]
  },
  {
   "cell_type": "markdown",
   "metadata": {},
   "source": [
    "## Accumulator"
   ]
  },
  {
   "cell_type": "markdown",
   "metadata": {},
   "source": [
    "### Hello World\n",
    "\n",
    "下面的这个例子，使用 ``Latest`` 算符，保留输入值的最近状态。"
   ]
  },
  {
   "cell_type": "code",
   "execution_count": null,
   "metadata": {
    "collapsed": false
   },
   "outputs": [],
   "source": [
    "from PyFin.Math.Accumulators import Latest\n",
    "\n",
    "exp1 = Latest(dependency='x')\n",
    "exp1"
   ]
  },
  {
   "cell_type": "markdown",
   "metadata": {},
   "source": [
    "上面可以看到 ```exp1``` 是一个 ``accumulator`` 的实例。"
   ]
  },
  {
   "cell_type": "code",
   "execution_count": null,
   "metadata": {
    "collapsed": false
   },
   "outputs": [],
   "source": [
    "# 1st round\n",
    "exp1.push({'x': 1})\n",
    "print(\"Value after 1st round: {0}\".format(exp1.value))\n",
    "\n",
    "# 2nd round\n",
    "exp1.push({'x': 2})\n",
    "print(\"Value after 2nd round: {0}\".format(exp1.value))\n",
    "\n",
    "# repeate\n",
    "print(\"Do nothing: {0}\".format(exp1.value))\n",
    "\n",
    "# 3rd and 4th round\n",
    "exp1.push({'x': 3})\n",
    "exp1.push({'x': 4})\n",
    "print(\"Value after 3rd/4th round: {0}\".format(exp1.value))"
   ]
  },
  {
   "cell_type": "markdown",
   "metadata": {},
   "source": [
    "### One Step Further\n",
    "\n",
    "下面的例子，计算过去两个输入值的均值："
   ]
  },
  {
   "cell_type": "code",
   "execution_count": null,
   "metadata": {
    "collapsed": false
   },
   "outputs": [],
   "source": [
    "from PyFin.Math.Accumulators import MovingAverage\n",
    "\n",
    "ma = MovingAverage(dependency='x', window=2)\n",
    "\n",
    "values = [1, 2, 3, 4, 5]\n",
    "\n",
    "for i, x in enumerate(values):\n",
    "    ma.push({'x': x})\n",
    "    print(\"{0}: {1}\".format(i, ma.value))"
   ]
  },
  {
   "cell_type": "markdown",
   "metadata": {},
   "source": [
    "### More complicated examples"
   ]
  },
  {
   "cell_type": "markdown",
   "metadata": {},
   "source": [
    "#### 算术运算/复合运算\n",
    "\n",
    "计算一组收益率序列的滚动sharp，时间窗口为250日。\n",
    "\n",
    "构造算子："
   ]
  },
  {
   "cell_type": "code",
   "execution_count": null,
   "metadata": {
    "collapsed": false
   },
   "outputs": [],
   "source": [
    "import numpy as np\n",
    "from PyFin.Math.Accumulators import MovingVariance\n",
    "from PyFin.Math.Accumulators import Sqrt\n",
    "\n",
    "np.random.seed(47)\n",
    "ret_simulated = 0.0005 + np.random.randn(2000) / 100.\n",
    "\n",
    "ret_mean = MovingAverage(dependency='x', window=250)\n",
    "ret_std = Sqrt(MovingVariance(dependency='x', window=250)) # Compounded accumlator is used here\n",
    "\n",
    "sharp = ret_mean / ret_std # dividing can be used for accumulators\n",
    "sharp"
   ]
  },
  {
   "cell_type": "markdown",
   "metadata": {},
   "source": [
    "输入数据："
   ]
  },
  {
   "cell_type": "code",
   "execution_count": null,
   "metadata": {
    "collapsed": false
   },
   "outputs": [],
   "source": [
    "sharp_series = []\n",
    "for ret in ret_simulated:\n",
    "    sharp.push({'x': ret})\n",
    "    sharp_series.append(sharp.value)"
   ]
  },
  {
   "cell_type": "markdown",
   "metadata": {},
   "source": [
    "把数据画出来出来："
   ]
  },
  {
   "cell_type": "code",
   "execution_count": null,
   "metadata": {
    "collapsed": false
   },
   "outputs": [],
   "source": [
    "%pylab inline\n",
    "import seaborn as sns\n",
    "import pandas as pd\n",
    "sns.set_style('whitegrid')\n",
    "df = pd.DataFrame({'returns': ret_simulated.cumsum(), 'sharp': sharp_series})\n",
    "df[250:].plot(secondary_y='sharp', figsize=(12, 6))"
   ]
  },
  {
   "cell_type": "markdown",
   "metadata": {},
   "source": [
    "#### 聚合运算\n",
    "\n",
    "``Correlation`` 的计算需要涉及两个变量序列的计算，这里就有**聚合**。\n",
    "\n",
    "下面的例子中，我们计算一组序列，20日均线和50日均线的250日相关系数："
   ]
  },
  {
   "cell_type": "code",
   "execution_count": null,
   "metadata": {
    "collapsed": false
   },
   "outputs": [],
   "source": [
    "from PyFin.Math.Accumulators import MovingCorrelation\n",
    "\n",
    "ma20 = MovingAverage(dependency='x', window=20)\n",
    "ma50 = MovingAverage(dependency='x', window=50)\n",
    "\n",
    "corr = MovingCorrelation(dependency=ma20^ma50, window=250)\n",
    "corr"
   ]
  },
  {
   "cell_type": "markdown",
   "metadata": {},
   "source": [
    "注意上面的代码中，我们使用 ``^`` 运算符表示了 **聚合** 运算。"
   ]
  },
  {
   "cell_type": "code",
   "execution_count": null,
   "metadata": {
    "collapsed": false
   },
   "outputs": [],
   "source": [
    "ma20_series = []\n",
    "ma50_series = []\n",
    "corr_series = []\n",
    "for ret in ret_simulated:\n",
    "    ma20.push({'x': ret})\n",
    "    ma50.push({'x': ret})\n",
    "    corr.push({'x': ret})\n",
    "    \n",
    "    ma20_series.append(ma20.value)\n",
    "    ma50_series.append(ma50.value)\n",
    "    corr_series.append(corr.value)"
   ]
  },
  {
   "cell_type": "code",
   "execution_count": null,
   "metadata": {
    "collapsed": false
   },
   "outputs": [],
   "source": [
    "df = pd.DataFrame({'ma20': ma20_series, 'ma50': ma50_series, 'corr': corr_series})\n",
    "df[300:].plot(secondary_y='corr', figsize=(12, 6))"
   ]
  },
  {
   "cell_type": "markdown",
   "metadata": {},
   "source": [
    "#### 投影运算"
   ]
  },
  {
   "cell_type": "markdown",
   "metadata": {},
   "source": [
    "下面的例子，我们计算上面收益日序列，250日alpha值的20日均值。\n",
    "\n",
    "在 ``accumulator`` 中，我们有 ``MovingAlphaBeta`` 计算过去一段时间的 $\\alpha$ 以及 $\\beta$ 值。因为这里我们只需要计算 $\\alpha$ 的均值，这里我们就需要使用 **投影** 运算，只将部分数据输入 ``MovingAverage`` ："
   ]
  },
  {
   "cell_type": "code",
   "execution_count": null,
   "metadata": {
    "collapsed": false
   },
   "outputs": [],
   "source": [
    "from PyFin.Math.Accumulators import MovingAlphaBeta\n",
    "\n",
    "exp1 = MovingAlphaBeta(window=250)\n",
    "alpha_mean = MovingAverage(dependency=exp1[0], window=20)"
   ]
  },
  {
   "cell_type": "markdown",
   "metadata": {},
   "source": [
    "我们直接使用了 ``[]`` 做了投影的操作。"
   ]
  },
  {
   "cell_type": "code",
   "execution_count": null,
   "metadata": {
    "collapsed": true
   },
   "outputs": [],
   "source": [
    "alpha_series = []\n",
    "alpha_mean_series = []\n",
    "for ret in ret_simulated:\n",
    "    exp1.push({'pRet': ret, 'mRet': 0., 'riskFree': 0.})\n",
    "    alpha_mean.push({'pRet': ret, 'mRet': 0., 'riskFree': 0.})\n",
    "    alpha_series.append(exp1.value[0])\n",
    "    alpha_mean_series.append(alpha_mean.value)"
   ]
  },
  {
   "cell_type": "code",
   "execution_count": null,
   "metadata": {
    "collapsed": false
   },
   "outputs": [],
   "source": [
    "df = pd.DataFrame({'alpha': alpha_series, 'alpha20': alpha_mean_series})\n",
    "df[250:].plot(secondary_y='alpha20', figsize=(12, 6))"
   ]
  },
  {
   "cell_type": "markdown",
   "metadata": {},
   "source": [
    "### Working with Pandas"
   ]
  },
  {
   "cell_type": "code",
   "execution_count": null,
   "metadata": {
    "collapsed": false
   },
   "outputs": [],
   "source": [
    "from PyFin.api import MA\n",
    "from PyFin.examples.datas import sample_data"
   ]
  },
  {
   "cell_type": "code",
   "execution_count": null,
   "metadata": {
    "collapsed": false
   },
   "outputs": [],
   "source": [
    "sample_data"
   ]
  },
  {
   "cell_type": "code",
   "execution_count": null,
   "metadata": {
    "collapsed": false
   },
   "outputs": [],
   "source": [
    "ma2 = MA(2, 'close')"
   ]
  },
  {
   "cell_type": "markdown",
   "metadata": {},
   "source": [
    "#### 根据 ``category_field`` 计算"
   ]
  },
  {
   "cell_type": "code",
   "execution_count": null,
   "metadata": {
    "collapsed": false
   },
   "outputs": [],
   "source": [
    "ma2.transform(sample_data, category_field='code')"
   ]
  },
  {
   "cell_type": "markdown",
   "metadata": {},
   "source": [
    "#### 直接计算"
   ]
  },
  {
   "cell_type": "code",
   "execution_count": null,
   "metadata": {
    "collapsed": true
   },
   "outputs": [],
   "source": [
    "ma2 = MA(2, 'close')"
   ]
  },
  {
   "cell_type": "code",
   "execution_count": null,
   "metadata": {
    "collapsed": false
   },
   "outputs": [],
   "source": [
    "ma2.transform(sample_data)"
   ]
  }
 ],
 "metadata": {
  "anaconda-cloud": {},
  "kernelspec": {
   "display_name": "Python [conda root]",
   "language": "python",
   "name": "conda-root-py"
  },
  "language_info": {
   "codemirror_mode": {
    "name": "ipython",
    "version": 3
   },
   "file_extension": ".py",
   "mimetype": "text/x-python",
   "name": "python",
   "nbconvert_exporter": "python",
   "pygments_lexer": "ipython3",
   "version": "3.5.2"
  }
 },
 "nbformat": 4,
 "nbformat_minor": 0
}
